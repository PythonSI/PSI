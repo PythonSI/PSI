{
 "cells": [
  {
   "cell_type": "code",
   "execution_count": null,
   "id": "a749a71b",
   "metadata": {},
   "outputs": [],
   "source": [
    "from PythonSI import FeatureSelectionPipeline\n",
    "from PythonSI.feature_selection import LassoFeatureSelection\n",
    "from PythonSI import Data\n",
    "from PythonSI.test_statistics import SFS_DATestStatistic\n",
    "import numpy as np\n",
    "import matplotlib.pyplot as plt"
   ]
  },
  {
   "cell_type": "code",
   "execution_count": null,
   "id": "fa2550ec",
   "metadata": {},
   "outputs": [],
   "source": [
    "def test_pipeline() -> FeatureSelectionPipeline:\n",
    "    r\"\"\"LASSO feature selection pipeline for testing.\n",
    "    \n",
    "    This function constructs a basic feature selection pipeline using\n",
    "    LASSO regularization without domain adaptation. The pipeline solves\n",
    "    the optimization problem:\n",
    "    \n",
    "    .. math::\n",
    "        \\hat{\\boldsymbol{\\beta}} = \\mathop{\\arg \\min}_{\\boldsymbol{\\beta}} \\quad \n",
    "        \\frac{1}{2} \\|\\mathbf{y} - \\mathbf{x}\\boldsymbol{\\beta}\\|_2^2 + \\lambda \\|\\boldsymbol{\\beta}\\|_1\n",
    "    \n",
    "    where :math:`\\lambda = 10` is the regularization parameter.\n",
    "    \n",
    "    Returns\n",
    "    -------\n",
    "    pipeline : FeatureSelectionPipeline\n",
    "        Configured feature selection pipeline using LASSO\n",
    "        \n",
    "    Notes\n",
    "    -----\n",
    "    The pipeline uses empty Data nodes (x, y) that must be populated\n",
    "    with actual data before execution.\n",
    "    \n",
    "    Warnings\n",
    "    --------\n",
    "    This pipeline uses SFS_DATestStatistic which may not be appropriate\n",
    "    for single-domain data. Consider using FSTestStatistic instead.\n",
    "    \n",
    "    Examples\n",
    "    --------\n",
    "    >>> pipeline = test_pipeline()\n",
    "    >>> x_data = np.random.randn(100, 10)\n",
    "    >>> y_data = np.random.randn(100, 1) \n",
    "    >>> results = pipeline([x_data, y_data], sigma=np.eye(100))\n",
    "    \"\"\"\n",
    "    x = Data()\n",
    "    y = Data()\n",
    "    \n",
    "    lasso = LassoFeatureSelection(lambda_=10)\n",
    "    active_set = lasso.run(x, y)\n",
    "    return FeatureSelectionPipeline(inputs=(x, y), output=active_set, test_statistic=SFS_DATestStatistic(x=x, y=y))"
   ]
  },
  {
   "cell_type": "code",
   "execution_count": null,
   "id": "65082ba0",
   "metadata": {},
   "outputs": [],
   "source": [
    "def gen_data(n, p, true_beta):\n",
    "    r\"\"\"Generate synthetic linear regression data for testing.\n",
    "    \n",
    "    Creates a dataset following the linear model:\n",
    "    \n",
    "    .. math::\n",
    "        \\mathbf{Y} = \\mathbf{x} \\boldsymbol{\\beta} + \\boldsymbol{\\epsilon}\n",
    "    \n",
    "    where:\n",
    "    \n",
    "    - :math:`\\mathbf{x} \\in \\mathbb{R}^{n \\times p}` with :math:`x_{ij} \\sim \\mathcal{N}(0, 1)`\n",
    "    - :math:`\\boldsymbol{\\beta} \\in \\mathbb{R}^p` is the true coefficient vector\n",
    "    - :math:`\\boldsymbol{\\epsilon} \\sim \\mathcal{N}(\\mathbf{0}, \\mathbf{I}_n)` is the noise vector\n",
    "    \n",
    "    Parameters\n",
    "    ----------\n",
    "    n : int\n",
    "        Number of samples to generate\n",
    "    p : int\n",
    "        Number of features (dimensions)\n",
    "    true_beta : array-like, shape (p,)\n",
    "        True coefficient vector for linear relationship\n",
    "        \n",
    "    Returns\n",
    "    -------\n",
    "    x : array-like, shape (n, p)\n",
    "        Feature matrix with entries drawn from standard normal distribution\n",
    "    Y : array-like, shape (n, 1)\n",
    "        Response vector following the linear model\n",
    "    Sigma : array-like, shape (n, n)\n",
    "        Identity covariance matrix for the noise\n",
    "        \n",
    "    Examples\n",
    "    --------\n",
    "    >>> beta = np.array([1, 0, -2, 0, 0.5])\n",
    "    >>> x, Y, Sigma = gen_data(100, 5, beta)\n",
    "    >>> print(x.shape)  # (100, 5)\n",
    "    >>> print(Y.shape)  # (100, 1)\n",
    "    \"\"\"\n",
    "    x = np.random.normal(loc = 0, scale = 1, size = (n, p))\n",
    "    true_beta = true_beta.reshape(-1, 1)\n",
    "    \n",
    "    mu = x.dot(true_beta)\n",
    "    Sigma = np.identity(n)\n",
    "    Y = mu + np.random.normal(loc = 0, scale = 1, size = (n, 1))\n",
    "    return x, Y, Sigma"
   ]
  },
  {
   "cell_type": "code",
   "execution_count": null,
   "id": "a37f9363",
   "metadata": {},
   "outputs": [],
   "source": [
    "my_pipeline = test_pipeline()\n",
    "\n",
    "num_iters = 1000\n",
    "list_p_value = []\n",
    "for _ in range(num_iters):\n",
    "    x, y, sigma = gen_data(150, 5, np.asarray([0, 0, 0, 0, 0]))\n",
    "    selected_features, p_values = my_pipeline([x, y], sigma)\n",
    "    list_p_value.extend(p_values)"
   ]
  },
  {
   "cell_type": "code",
   "execution_count": 5,
   "id": "31eab386",
   "metadata": {},
   "outputs": [
    {
     "data": {
      "image/png": "[encoded data removed]",
      "text/plain": [
       "<Figure size 640x480 with 1 Axes>"
      ]
     },
     "metadata": {},
     "output_type": "display_data"
    }
   ],
   "source": [
    "plt.hist(list_p_value)\n",
    "plt.show()"
   ]
  }
 ],
 "metadata": {
  "kernelspec": {
   "display_name": "pythonsi",
   "language": "python",
   "name": "python3"
  },
  "language_info": {
   "codemirror_mode": {
    "name": "ipython",
    "version": 3
   },
   "file_extension": ".py",
   "mimetype": "text/x-python",
   "name": "python",
   "nbconvert_exporter": "python",
   "pygments_lexer": "ipython3",
   "version": "3.10.18"
  }
 },
 "nbformat": 4,
 "nbformat_minor": 5
}
