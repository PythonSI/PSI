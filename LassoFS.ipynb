{
 "cells": [
  {
   "cell_type": "code",
   "execution_count": 1,
   "id": "a749a71b",
   "metadata": {},
   "outputs": [],
   "source": [
    "from psi import Pipeline\n",
    "from psi.feature_selection import LassoFeatureSelection\n",
    "from psi import Data\n",
    "from psi.test_statistics import FSTestStatistic\n",
    "import numpy as np\n",
    "import matplotlib.pyplot as plt"
   ]
  },
  {
   "cell_type": "code",
   "execution_count": 2,
   "id": "fa2550ec",
   "metadata": {},
   "outputs": [],
   "source": [
    "def test_pipeline() -> Pipeline:\n",
    "    x = Data()\n",
    "    y = Data()\n",
    "    \n",
    "    lasso = LassoFeatureSelection(lambda_=10)\n",
    "    active_set = lasso.run(x, y)\n",
    "    return Pipeline(inputs=(x, y), output=active_set, test_statistic=FSTestStatistic(x=x, y=y))"
   ]
  },
  {
   "cell_type": "code",
   "execution_count": 3,
   "id": "65082ba0",
   "metadata": {},
   "outputs": [],
   "source": [
    "def gen_data(n, p, true_beta):\n",
    "    x = np.random.normal(loc = 0, scale = 1, size = (n, p))\n",
    "    true_beta = true_beta.reshape(-1, 1)\n",
    "    \n",
    "    mu = x.dot(true_beta)\n",
    "    Sigma = np.identity(n)\n",
    "    Y = mu + np.random.normal(loc = 0, scale = 1, size = (n, 1))\n",
    "    return x, Y, Sigma"
   ]
  },
  {
   "cell_type": "code",
   "execution_count": 4,
   "id": "a37f9363",
   "metadata": {},
   "outputs": [],
   "source": [
    "my_pipeline = test_pipeline()\n",
    "\n",
    "num_iters = 1000\n",
    "list_p_value = []\n",
    "for _ in range(num_iters):\n",
    "    x, y, sigma = gen_data(150, 5, np.asarray([0, 0, 0, 0, 0]))\n",
    "    selected_features, p_values = my_pipeline([x, y], sigma)\n",
    "    list_p_value.extend(p_values)"
   ]
  },
  {
   "cell_type": "code",
   "execution_count": 5,
   "id": "31eab386",
   "metadata": {},
   "outputs": [
    {
     "data": {
      "image/png": "[encoded data removed]",
      "text/plain": [
       "<Figure size 640x480 with 1 Axes>"
      ]
     },
     "metadata": {},
     "output_type": "display_data"
    }
   ],
   "source": [
    "plt.hist(list_p_value)\n",
    "plt.show()"
   ]
  }
 ],
 "metadata": {
  "kernelspec": {
   "display_name": "pythonsi",
   "language": "python",
   "name": "python3"
  },
  "language_info": {
   "codemirror_mode": {
    "name": "ipython",
    "version": 3
   },
   "file_extension": ".py",
   "mimetype": "text/x-python",
   "name": "python",
   "nbconvert_exporter": "python",
   "pygments_lexer": "ipython3",
   "version": "3.10.18"
  }
 },
 "nbformat": 4,
 "nbformat_minor": 5
}
