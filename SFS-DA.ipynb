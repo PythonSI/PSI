{
 "cells": [
  {
   "cell_type": "code",
   "execution_count": 1,
   "id": "7a1fdb97",
   "metadata": {},
   "outputs": [],
   "source": [
    "from psi import Pipeline\n",
    "from psi.feature_selection import LassoFeatureSelection\n",
    "from psi import Data\n",
    "from psi.test_statistics import SFS_DATestStatistic\n",
    "from psi.domain_adaptation import OptimalTransportDA\n",
    "import numpy as np\n",
    "import matplotlib.pyplot as plt"
   ]
  },
  {
   "cell_type": "code",
   "execution_count": 2,
   "id": "e66d2884",
   "metadata": {},
   "outputs": [],
   "source": [
    "def SFS_DA() -> Pipeline:\n",
    "    r\"\"\"Sequential Feature Selection with Domain Adaptation pipeline.\n",
    "    \n",
    "    This function constructs a feature selection pipeline that applies\n",
    "    optimal transport domain adaptation between source and target domains,\n",
    "    followed by LASSO feature selection on the adapted data.\n",
    "    \n",
    "    The pipeline implements the following workflow:\n",
    "    \n",
    "    1. Apply optimal transport domain adaptation: :math:`(\\tilde{\\mathbf{x}}, \\tilde{\\mathbf{y}}) = OT(\\mathbf{x}_s, \\mathbf{y}_s, \\mathbf{x}_t, \\mathbf{y}_t)`\n",
    "    2. Perform LASSO feature selection on adapted data\n",
    "    3. Compute selective inference statistics\n",
    "    \n",
    "    Returns\n",
    "    -------\n",
    "    pipeline : FeatureSelectionPipeline\n",
    "        Configured feature selection pipeline with domain adaptation\n",
    "        \n",
    "    Notes\n",
    "    -----\n",
    "    The pipeline uses empty Data nodes that need to be populated with\n",
    "    actual data before execution. The LASSO regularization parameter\n",
    "    is set to :math:`\\lambda = 10`.\n",
    "    \n",
    "    Examples\n",
    "    --------\n",
    "    >>> pipeline = SFS_DA()\n",
    "    >>> # Populate with actual data and run\n",
    "    >>> results = pipeline(inputs=[xs_data, ys_data, xt_data, yt_data])\n",
    "    \"\"\"\n",
    "    xs = Data()\n",
    "    ys = Data() \n",
    "    \n",
    "    xt = Data()\n",
    "    yt = Data()\n",
    "    \n",
    "    OT = OptimalTransportDA()\n",
    "    x_tilde, y_tilde = OT.run(xs=xs, ys=ys, xt=xt, yt=yt)\n",
    "\n",
    "    lasso = LassoFeatureSelection(lambda_=10)\n",
    "    active_set = lasso.run(x_tilde, y_tilde)\n",
    "    return Pipeline(inputs=(xs, ys, xt, yt), output=active_set, test_statistic=SFS_DATestStatistic(xs=xs, ys=ys, xt=xt, yt=yt))"
   ]
  },
  {
   "cell_type": "code",
   "execution_count": 3,
   "id": "cbb9eb52",
   "metadata": {},
   "outputs": [],
   "source": [
    "def gen_data(n, p, true_beta):\n",
    "    r\"\"\"Generate synthetic linear regression data for testing.\n",
    "    \n",
    "    Creates a dataset following the linear model:\n",
    "    \n",
    "    .. math::\n",
    "        \\mathbf{Y} = \\mathbf{x} \\boldsymbol{\\beta} + \\boldsymbol{\\epsilon}\n",
    "    \n",
    "    where:\n",
    "    \n",
    "    - :math:`\\mathbf{x} \\in \\mathbb{R}^{n \\times p}` with :math:`x_{ij} \\sim \\mathcal{N}(0, 1)`\n",
    "    - :math:`\\boldsymbol{\\beta} \\in \\mathbb{R}^p` is the true coefficient vector\n",
    "    - :math:`\\boldsymbol{\\epsilon} \\sim \\mathcal{N}(\\mathbf{0}, \\mathbf{I}_n)` is the noise vector\n",
    "    \n",
    "    Parameters\n",
    "    ----------\n",
    "    n : int\n",
    "        Number of samples to generate\n",
    "    p : int\n",
    "        Number of features (dimensions)\n",
    "    true_beta : array-like, shape (p,)\n",
    "        True coefficient vector for linear relationship\n",
    "        \n",
    "    Returns\n",
    "    -------\n",
    "    x : array-like, shape (n, p)\n",
    "        Feature matrix with entries drawn from standard normal distribution\n",
    "    Y : array-like, shape (n, 1)\n",
    "        Response vector following the linear model\n",
    "    Sigma : array-like, shape (n, n)\n",
    "        Identity covariance matrix for the noise\n",
    "        \n",
    "    Examples\n",
    "    --------\n",
    "    >>> beta = np.array([1, 0, -2, 0, 0.5])\n",
    "    >>> x, Y, Sigma = gen_data(100, 5, beta)\n",
    "    >>> print(x.shape)  # (100, 5)\n",
    "    >>> print(Y.shape)  # (100, 1)\n",
    "    \"\"\"\n",
    "    x = np.random.normal(loc = 0, scale = 1, size = (n, p))\n",
    "    true_beta = true_beta.reshape(-1, 1)\n",
    "    \n",
    "    mu = x.dot(true_beta)\n",
    "    Sigma = np.identity(n)\n",
    "    Y = mu + np.random.normal(loc = 0, scale = 1, size = (n, 1))\n",
    "    return x, Y, Sigma"
   ]
  },
  {
   "cell_type": "code",
   "execution_count": 5,
   "id": "11dc14f3",
   "metadata": {},
   "outputs": [
    {
     "name": "stdout",
     "output_type": "stream",
     "text": [
      "Selected output: [2 3]\n",
      "Testing feature 0\n",
      "Feature 0: p-value = 0.02327580723736533\n",
      "Testing feature 1\n",
      "Feature 1: p-value = 0.009285189593967668\n"
     ]
    }
   ],
   "source": [
    "my_pipeline = SFS_DA()\n",
    "\n",
    "num_iters = 1\n",
    "list_p_value = []\n",
    "for _ in range(num_iters):\n",
    "    xs, ys, sigma_s = gen_data(150, 5, np.asarray([0, 0, 0, 0, 0]))\n",
    "    xt, yt, sigma_t = gen_data(25, 5, np.asarray([0, 0, 0, 0, 0]))\n",
    "    selected_features, p_values = my_pipeline(inputs=[xs, ys, xt, yt], covariances=[sigma_s, sigma_t], verbose=True)\n",
    "    list_p_value.extend(p_values)"
   ]
  }
 ],
 "metadata": {
  "kernelspec": {
   "display_name": "pythonsi",
   "language": "python",
   "name": "python3"
  },
  "language_info": {
   "codemirror_mode": {
    "name": "ipython",
    "version": 3
   },
   "file_extension": ".py",
   "mimetype": "text/x-python",
   "name": "python",
   "nbconvert_exporter": "python",
   "pygments_lexer": "ipython3",
   "version": "3.10.18"
  }
 },
 "nbformat": 4,
 "nbformat_minor": 5
}
